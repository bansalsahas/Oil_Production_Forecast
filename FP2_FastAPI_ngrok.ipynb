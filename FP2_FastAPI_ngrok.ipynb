{
  "nbformat": 4,
  "nbformat_minor": 0,
  "metadata": {
    "colab": {
      "name": "FP2-FastAPI-ngrok.ipynb",
      "private_outputs": true,
      "provenance": []
    },
    "kernelspec": {
      "name": "python3",
      "display_name": "Python 3"
    },
    "language_info": {
      "name": "python"
    }
  },
  "cells": [
    {
      "cell_type": "code",
      "source": [
        "!pip install fastapi\n",
        "!pip install colabcode\n",
        "!pip install h2o -qq\n",
        "!npm install -g localtunnel -qq > /dev/null"
      ],
      "metadata": {
        "id": "1WAv7yQtCYPd"
      },
      "execution_count": null,
      "outputs": []
    },
    {
      "cell_type": "code",
      "execution_count": null,
      "metadata": {
        "id": "hbuA7Vh9CJm-"
      },
      "outputs": [],
      "source": [
        "import pandas as pd\n",
        "from fastapi import FastAPI\n",
        "import pickle\n",
        "\n",
        "app = FastAPI()\n",
        "\n",
        "@app.get('/')\n",
        "def index():\n",
        "    data = pd.read_excel(\"/content/drive/MyDrive/ISB_AMPBA(2021-2022)/Term- 5/FP-2/oil_balance.xlsx\")\n",
        "    data= data.drop(columns=['GDEBTSA','PPISA', 'PRCUS', 'PUCUS'])\n",
        "    data['oilprod_week_avg'] = data['INDPROD'].rolling(7).mean()\n",
        "    data['oilprod_2weeks_avg'] = data['INDPROD'].rolling(14).mean()\n",
        "    data['oilprod_month_avg'] = data['INDPROD'].rolling(30).mean()\n",
        "    #Extracting year,month and date from the Date field.\n",
        "    data['year'] = data['Date'].dt.year\n",
        "    data['month'] = data['Date'].dt.month\n",
        "    data['day'] = data['Date'].dt.day\n",
        "    data.rename(columns = {'INDPROD':'int_prod','REFINOBS':'ref_intake','TOTEXPSB':'total_export','GDEBTSA':'govt_debt','EXPSA':'exp_sa','IPSA':'imp_sa','PRCUS':'pvtcons_us',\n",
        "                          'PUCUS':\"pubcons_us\",'REFINOBS':'ref_intake','OILPRODSA':'saudi_oil_prod','OILPRODUS':'usa_oil_prod'},inplace = True)\n",
        "    data = data[data.Date.notnull()]\n",
        "    data.reset_index(drop=True,inplace=True)\n",
        "    train = data.loc[:int(data.shape[0]*0.8),:]\n",
        "    test = data.loc[int(data.shape[0]*0.8):,:]\n",
        "    import h2o\n",
        "    h2o.init(nthreads=-1)\n",
        "    model_path = '/content/drive/MyDrive/ISB_AMPBA(2021-2022)/Term- 5/FP-2/XGBoost_grid_1_AutoML_1_20220716_175707_model_312' \n",
        "    model = h2o.load_model(model_path)\n",
        "    hf_train = h2o.H2OFrame(train)\n",
        "    hf_test = h2o.H2OFrame(test)\n",
        "    hf_test_predict = model.predict(hf_test)\n",
        "    hf_test_predict = h2o.as_list(hf_test_predict)\n",
        "    return hf_test_predict.head()\n",
        "\n",
        "@app.post('/Predict')     \n",
        "async def forecast():\n",
        "  data = pd.read_excel(\"/content/drive/MyDrive/ISB_AMPBA(2021-2022)/Term- 5/FP-2/oil_balance.xlsx\")\n",
        "  data= data.drop(columns=['GDEBTSA','PPISA', 'PRCUS', 'PUCUS'])\n",
        "  data['oilprod_week_avg'] = data['INDPROD'].rolling(7).mean()\n",
        "  data['oilprod_2weeks_avg'] = data['INDPROD'].rolling(14).mean()\n",
        "  data['oilprod_month_avg'] = data['INDPROD'].rolling(30).mean()\n",
        "  #Extracting year,month and date from the Date field.\n",
        "  data['year'] = data['Date'].dt.year\n",
        "  data['month'] = data['Date'].dt.month\n",
        "  data['day'] = data['Date'].dt.day\n",
        "  data.rename(columns = {'INDPROD':'int_prod','REFINOBS':'ref_intake','TOTEXPSB':'total_export','GDEBTSA':'govt_debt','EXPSA':'exp_sa','IPSA':'imp_sa','PRCUS':'pvtcons_us',\n",
        "                        'PUCUS':\"pubcons_us\",'REFINOBS':'ref_intake','OILPRODSA':'saudi_oil_prod','OILPRODUS':'usa_oil_prod'},inplace = True)\n",
        "  data = data[data.Date.notnull()]\n",
        "  data.reset_index(drop=True,inplace=True)\n",
        "  train = data.loc[:int(data.shape[0]*0.8),:]\n",
        "  test = data.loc[int(data.shape[0]*0.8):,:]\n",
        "  import h2o\n",
        "  h2o.init(nthreads=-1)\n",
        "  model_path = '/content/drive/MyDrive/ISB_AMPBA(2021-2022)/Term- 5/FP-2/XGBoost_grid_1_AutoML_1_20220716_175707_model_312' \n",
        "  model = h2o.load_model(model_path)\n",
        "  hf_train = h2o.H2OFrame(train)\n",
        "  hf_test = h2o.H2OFrame(test)\n",
        "  hf_test_predict = model.predict(hf_test)\n",
        "  return hf_test_predict.head(10)\n"
      ]
    },
    {
      "cell_type": "code",
      "source": [
        "from colabcode import ColabCode\n",
        "server = ColabCode(port=5000, code=False)"
      ],
      "metadata": {
        "id": "g2n7T6sYCUHr"
      },
      "execution_count": null,
      "outputs": []
    },
    {
      "cell_type": "code",
      "source": [
        "server.run_app(app=app)"
      ],
      "metadata": {
        "id": "GpJN8tv0Cj1R"
      },
      "execution_count": null,
      "outputs": []
    }
  ]
}